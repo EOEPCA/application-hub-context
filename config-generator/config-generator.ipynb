{
 "cells": [
  {
   "cell_type": "code",
   "execution_count": 1,
   "metadata": {},
   "outputs": [],
   "source": [
    "import yaml\n",
    "from models import *\n",
    "import os"
   ]
  },
  {
   "attachments": {},
   "cell_type": "markdown",
   "metadata": {},
   "source": [
    "## Configuration\n",
    "\n"
   ]
  },
  {
   "cell_type": "code",
   "execution_count": 2,
   "metadata": {},
   "outputs": [],
   "source": [
    "storage_class_rwo = \"standard\"\n",
    "storage_class_rwx = \"standard\"\n",
    "\n",
    "workspace_volume_size = \"50Gi\"\n",
    "calrissian_volume_size = \"50Gi\"\n"
   ]
  },
  {
   "attachments": {},
   "cell_type": "markdown",
   "metadata": {},
   "source": [
    "## Volumes\n",
    "\n",
    "Create the Volumes"
   ]
  },
  {
   "attachments": {},
   "cell_type": "markdown",
   "metadata": {},
   "source": [
    "### Workspace Volume\n",
    "\n",
    "The workspace volume is persisted."
   ]
  },
  {
   "cell_type": "code",
   "execution_count": 3,
   "metadata": {},
   "outputs": [],
   "source": [
    "workspace_volume = Volume(\n",
    "    name=\"workspace-volume\",\n",
    "    size=workspace_volume_size,\n",
    "    claim_name=\"workspace-claim\",\n",
    "    mount_path=\"/workspace\",\n",
    "    storage_class=storage_class_rwo,\n",
    "    access_modes=[\"ReadWriteOnce\"],\n",
    "    volume_mount=VolumeMount(name=\"workspace-volume\", mount_path=\"/workspace\"),\n",
    "    persist=True,\n",
    ")"
   ]
  },
  {
   "attachments": {},
   "cell_type": "markdown",
   "metadata": {},
   "source": [
    "### Calrissian Volume\n",
    "\n",
    "This is a RWX volume, not persisted"
   ]
  },
  {
   "cell_type": "code",
   "execution_count": 4,
   "metadata": {},
   "outputs": [],
   "source": [
    "calrissian_volume = Volume(\n",
    "    name=\"calrissian-volume\",\n",
    "    claim_name=\"calrissian-claim\",\n",
    "    size=calrissian_volume_size,\n",
    "    storage_class=storage_class_rwx,\n",
    "    access_modes=[\"ReadWriteMany\"],\n",
    "    volume_mount=VolumeMount(name=\"calrissian-volume\", mount_path=\"/calrissian\"),\n",
    "    persist=False,\n",
    ")"
   ]
  },
  {
   "attachments": {},
   "cell_type": "markdown",
   "metadata": {},
   "source": [
    "## ConfigMaps\n",
    "\n",
    "These configmaps are mounted as files on the pod."
   ]
  },
  {
   "attachments": {},
   "cell_type": "markdown",
   "metadata": {},
   "source": [
    "### bash login\n",
    "\n",
    "This file is used for the JupyterLab Terminal configuration"
   ]
  },
  {
   "cell_type": "code",
   "execution_count": 5,
   "metadata": {},
   "outputs": [],
   "source": [
    "with open(\"config-maps/bash-login\", \"r\") as f:\n",
    "    content = f.read()\n",
    "\n",
    "bash_login_cm = ConfigMap(\n",
    "    name=\"bash-login\",\n",
    "    key=\"bash-login\",\n",
    "    content=content,\n",
    "    readonly=True,\n",
    "    persist=True,\n",
    "    mount_path=\"/workspace/.bash_login\",\n",
    ")"
   ]
  },
  {
   "attachments": {},
   "cell_type": "markdown",
   "metadata": {},
   "source": [
    "#### bash.rc\n"
   ]
  },
  {
   "cell_type": "code",
   "execution_count": 6,
   "metadata": {},
   "outputs": [],
   "source": [
    "with open(\"config-maps/bash-rc\", \"r\") as f:\n",
    "    content = f.read()\n",
    "bash_rc_cm = ConfigMap(\n",
    "    name=\"bash-rc\",\n",
    "    key=\"bash-rc\",\n",
    "    content=content,\n",
    "    readonly=True,\n",
    "    persist=True,\n",
    "    mount_path=\"/workspace/.bashrc\",\n",
    ")"
   ]
  },
  {
   "attachments": {},
   "cell_type": "markdown",
   "metadata": {},
   "source": [
    "## Profiles"
   ]
  },
  {
   "cell_type": "code",
   "execution_count": 7,
   "metadata": {},
   "outputs": [],
   "source": [
    "profiles = []"
   ]
  },
  {
   "attachments": {},
   "cell_type": "markdown",
   "metadata": {},
   "source": [
    "### Coder"
   ]
  },
  {
   "cell_type": "code",
   "execution_count": 8,
   "metadata": {},
   "outputs": [],
   "source": [
    "coders = {\n",
    "    \"coder1\": {\n",
    "        \"display_name\": \"Code Server Small\",\n",
    "        \"slug\": \"eoepca_coder_slug_s\",\n",
    "        \"cpu_limit\": 2,\n",
    "        \"mem_limit\": \"8G\",\n",
    "    },\n",
    "    \"coder2\": {\n",
    "        \"display_name\": \"Code Server Medium\",\n",
    "        \"slug\": \"eoepca_coder_slug_m\",\n",
    "        \"cpu_limit\": 4,\n",
    "        \"mem_limit\": \"12G\",\n",
    "    },\n",
    "}\n",
    "\n",
    "for key, value in coders.items():\n",
    "    coder_definition = ProfileDefinition(\n",
    "        display_name=value[\"display_name\"],\n",
    "        slug=value[\"slug\"],\n",
    "        default=False,\n",
    "        kubespawner_override=KubespawnerOverride(\n",
    "            cpu_limit=value[\"cpu_limit\"],\n",
    "            mem_limit=value[\"mem_limit\"],\n",
    "            image=\"eoepca/pde-code-server:develop\",\n",
    "        ),\n",
    "    )\n",
    "\n",
    "    coder_profile = Profile(\n",
    "        id=f\"profile_studio_{key}\",\n",
    "        groups=[\"group-a\", \"group-b\"],\n",
    "        definition=coder_definition,\n",
    "        node_selector={},\n",
    "        volumes=[calrissian_volume, workspace_volume],\n",
    "        config_maps=[\n",
    "            bash_rc_cm,\n",
    "        ],\n",
    "        pod_env_vars={\n",
    "            \"HOME\": \"/workspace\",\n",
    "            \"CONDA_ENVS_PATH\": \" /workspace/.envs\",\n",
    "        },\n",
    "    )\n",
    "\n",
    "    profiles.append(coder_profile)"
   ]
  },
  {
   "cell_type": "markdown",
   "metadata": {},
   "source": [
    "## init.sh script"
   ]
  },
  {
   "cell_type": "code",
   "execution_count": 9,
   "metadata": {},
   "outputs": [],
   "source": [
    "with open(\"./config-maps/init.sh\", \"r\") as f:\n",
    "    content = f.read()\n",
    "\n",
    "init_cm = ConfigMap(\n",
    "    name=\"init\",\n",
    "    key=\"init\",\n",
    "    content=content,\n",
    "    readonly=True,\n",
    "    persist=False,\n",
    "    mount_path=\"/opt/init/.init.sh\",\n",
    "    default_mode=\"0660\",\n",
    ")\n",
    "\n",
    "\n",
    "init_context_volume_mount = InitContainerVolumeMount(\n",
    "    mount_path=\"/opt/init/.init.sh\", name=\"init\", sub_path=\"init\"\n",
    ")\n",
    "init_container = InitContainer(\n",
    "    name=\"init-file-on-volume\",\n",
    "    image=\"eoepca/pde-code-server:develop\",\n",
    "    command=[\"sh\", \"-c\", \"sh /opt/init/.init.sh\"],\n",
    "    volume_mounts=[\n",
    "        VolumeMount(name=\"workspace-volume\", mount_path=\"/workspace\"),\n",
    "        init_context_volume_mount,\n",
    "    ],\n",
    ")\n",
    "\n",
    "eoepca_demo_init_script_profile = Profile(\n",
    "    id=f\"profile_demo_init_script\",\n",
    "    groups=[\"group-a\", \"group-b\"],\n",
    "    definition=ProfileDefinition(\n",
    "        display_name=\"Coder demo init script\",\n",
    "        description=\"This profile is used to demonstrate the use of an init script\",\n",
    "        slug=\"eoepca_demo_init_script\",\n",
    "        default=False,\n",
    "        kubespawner_override=KubespawnerOverride(\n",
    "            cpu_guarantee=1,\n",
    "            cpu_limit=2,\n",
    "            mem_guarantee=\"4G\",\n",
    "            mem_limit=\"6G\",\n",
    "            image=\"eoepca/pde-code-server:develop\",\n",
    "        ),\n",
    "    ),\n",
    "    node_selector={},\n",
    "    volumes=[calrissian_volume, workspace_volume],\n",
    "    config_maps=[init_cm],\n",
    "    pod_env_vars={\n",
    "        \"HOME\": \"/workspace\",\n",
    "        \"CONDA_ENVS_PATH\": \"/workspace/.envs\",\n",
    "        \"CONDARC\": \"/workspace/.condarc\",\n",
    "        \"XDG_RUNTIME_DIR\": \"/workspace/.local\",\n",
    "        \"CODE_SERVER_WS\": \"/workspace/mastering-app-package\",\n",
    "    },\n",
    "    init_containers=[init_container],\n",
    ")"
   ]
  },
  {
   "cell_type": "code",
   "execution_count": 10,
   "metadata": {},
   "outputs": [],
   "source": [
    "profiles.append(eoepca_demo_init_script_profile)\n",
    "\n",
    "eoepca_demo_init_script_profile = Profile(\n",
    "    id=f\"profile_demo_init_script\",\n",
    "    groups=[\"group-a\", \"group-b\"],\n",
    "    definition=ProfileDefinition(\n",
    "        display_name=\"Coder demo init script\",\n",
    "        description=\"This profile is used to demonstrate the use of an init script\",\n",
    "        slug=\"eoepca_demo_init_script\",\n",
    "        default=False,\n",
    "        kubespawner_override=KubespawnerOverride(\n",
    "            cpu_guarantee=1,\n",
    "            cpu_limit=2,\n",
    "            mem_guarantee=\"4G\",\n",
    "            mem_limit=\"6G\",\n",
    "            image=\"eoepca/pde-code-server:develop\",\n",
    "        ),\n",
    "    ),\n",
    "    node_selector={},\n",
    "    volumes=[calrissian_volume, workspace_volume],\n",
    "    config_maps=[init_cm],\n",
    "    pod_env_vars={\n",
    "        \"HOME\": \"/workspace\",\n",
    "        \"CONDA_ENVS_PATH\": \"/workspace/.envs\",\n",
    "        \"CONDARC\": \"/workspace/.condarc\",\n",
    "        \"XDG_RUNTIME_DIR\": \"/workspace/.local\",\n",
    "        \"CODE_SERVER_WS\": \"/workspace/mastering-app-package\",\n",
    "    },\n",
    "    init_containers=[init_container],\n",
    ")"
   ]
  },
  {
   "cell_type": "markdown",
   "metadata": {},
   "source": [
    "## JupyterLab"
   ]
  },
  {
   "cell_type": "code",
   "execution_count": 11,
   "metadata": {},
   "outputs": [],
   "source": [
    "image = \"jupyter/scipy-notebook\"\n",
    "\n",
    "\n",
    "eoepca_jupyter_lab_profile = Profile(\n",
    "    id=\"profile_jupyter_lab\",\n",
    "    groups=[\"group-c\"],\n",
    "    definition=ProfileDefinition(\n",
    "        display_name=\"Jupyter Lab\",\n",
    "        description=\"Jupyter Lab with Python 3.11\",\n",
    "        slug=\"eoepca_jupyter_lab\",\n",
    "        default=False,\n",
    "        kubespawner_override=KubespawnerOverride(\n",
    "            cpu_guarantee=1,\n",
    "            cpu_limit=2,\n",
    "            mem_guarantee=\"4G\",\n",
    "            mem_limit=\"6G\",\n",
    "            image=image,\n",
    "        ),\n",
    "    ),\n",
    "    node_selector={},\n",
    "    volumes=[workspace_volume],\n",
    "    config_maps=[],\n",
    "    pod_env_vars={\n",
    "        \"HOME\": \"/workspace\",\n",
    "        \"XDG_RUNTIME_DIR\": \"/workspace/.local\",\n",
    "        \"XDG_CONFIG_HOME\": \"/workspace/.config\",\n",
    "    },\n",
    ")\n",
    "\n",
    "profiles.append(eoepca_jupyter_lab_profile)"
   ]
  },
  {
   "cell_type": "markdown",
   "metadata": {},
   "source": [
    "## Image pull secret\n"
   ]
  },
  {
   "cell_type": "code",
   "execution_count": 12,
   "metadata": {},
   "outputs": [],
   "source": [
    "image_pull_secret = ImagePullSecret(\n",
    "    name=\"cr-config\",\n",
    "    persist=False,\n",
    "    data=\"\",\n",
    "    data=\"\",\n",
    ")"
   ]
  },
  {
   "cell_type": "code",
   "execution_count": 13,
   "metadata": {},
   "outputs": [],
   "source": [
    "image = \"jupyter/scipy-notebook\"\n",
    "\n",
    "\n",
    "eoepca_jupyter_lab_profile_2 = Profile(\n",
    "    id=\"profile_jupyter_lab_2\",\n",
    "    groups=[\"group-c\"],\n",
    "    definition=ProfileDefinition(\n",
    "        display_name=\"Jupyter Lab - profile 2\",\n",
    "        description=\"Jupyter Lab with Python 3.11 - demoes the use of an image pull secret\",\n",
    "        slug=\"eoepca_jupyter_lab_2\",\n",
    "        default=False,\n",
    "        kubespawner_override=KubespawnerOverride(\n",
    "            cpu_guarantee=1,\n",
    "            cpu_limit=2,\n",
    "            mem_guarantee=\"4G\",\n",
    "            mem_limit=\"6G\",\n",
    "            image=image,\n",
    "        ),\n",
    "    ),\n",
    "    node_selector={},\n",
    "    volumes=[workspace_volume],\n",
    "    config_maps=[],\n",
    "    pod_env_vars={\n",
    "        \"HOME\": \"/workspace\",\n",
    "        \"XDG_RUNTIME_DIR\": \"/workspace/.local\",\n",
    "        \"XDG_CONFIG_HOME\": \"/workspace/.config\",\n",
    "    },\n",
    "    image_pull_secrets=[image_pull_secret],\n",
    ")\n",
    "\n",
    "profiles.append(eoepca_jupyter_lab_profile_2)"
   ]
  },
  {
   "attachments": {},
   "cell_type": "markdown",
   "metadata": {},
   "source": [
    "## Configuration"
   ]
  },
  {
   "cell_type": "code",
   "execution_count": 14,
   "metadata": {},
   "outputs": [],
   "source": [
    "config = Config(\n",
    "    profiles=profiles\n",
    ")\n",
    "\n",
    "with open(\n",
    "    \"../files/hub/config.yml\", \"w\"\n",
    ") as file:\n",
    "    yaml.dump(config.dict(), file)"
   ]
  },
  {
   "cell_type": "code",
   "execution_count": 1,
   "metadata": {},
   "outputs": [
    {
     "data": {
      "text/plain": [
       "[Profile(id='profile_studio_coder1', groups=['group-a', 'group-b'], definition=ProfileDefinition(display_name='Code Server Small', description=None, slug='ellip_studio_coder_slug_s', default=False, kubespawner_override=KubespawnerOverride(cpu_limit=2, cpu_guarantee=None, mem_limit='8G', mem_guarantee=None, image='eoepca/pde-code-server:develop', extra_resource_limits={}, extra_resource_guarantees={})), config_maps=[ConfigMap(name='bash-rc', key='bash-rc', mount_path='/workspace/.bashrc', default_mode=None, readonly=True, content='alias ll=\"ls -l\"\\nalias calrissian=\"/opt/conda/bin/calrissian --pod-nodeselectors /etc/calrissian/pod-node-selector.yml --stdout /calrissian/results.json --max-ram 16G --max-cores \"8\" --tmp-outdir-prefix /calrissian/tmp/ --outdir /calrissian/\"\\nalias cwltool=\"/opt/conda/bin/cwltool --podman\"\\n. /home/jovyan/.bashrc\\n# >>> conda initialize >>>\\n# !! Contents within this block are managed by \\'conda init\\' !!\\n__conda_setup=\"$(\\'/opt/conda/bin/conda\\' \\'shell.bash\\' \\'hook\\' 2> /dev/null)\"\\nif [ $? -eq 0 ]; then\\n    eval \"$__conda_setup\"\\nelse\\n    if [ -f \"/opt/conda/etc/profile.d/conda.sh\" ]; then\\n        . \"/opt/conda/etc/profile.d/conda.sh\"\\n    else\\n        export PATH=\"/srv/conda/bin:$PATH\"\\n    fi\\nfi\\nunset __conda_setup\\n\\nif [ -f \"/opt/conda/etc/profile.d/mamba.sh\" ]; then\\n    . \"/opt/conda/etc/profile.d/mamba.sh\"\\nfi\\n# <<< conda initialize <<<\\n', persist=True)], volumes=[Volume(name='calrissian-volume', claim_name='calrissian-claim', size='50Gi', storage_class='standard', access_modes=['ReadWriteMany'], volume_mount=VolumeMount(name='calrissian-volume', mount_path='/calrissian'), persist=False), Volume(name='workspace-volume', claim_name='workspace-claim', size='50Gi', storage_class='standard', access_modes=['ReadWriteOnce'], volume_mount=VolumeMount(name='workspace-volume', mount_path='/workspace'), persist=True)], pod_env_vars={'HOME': '/workspace', 'CONDA_ENVS_PATH': ' /workspace/.envs'}, default_url=None, node_selector={}, role_bindings=None, image_pull_secrets=[], init_containers=[], manifests=None),\n",
       " Profile(id='profile_studio_coder2', groups=['group-a', 'group-b'], definition=ProfileDefinition(display_name='Code Server Medium', description=None, slug='ellip_studio_coder_slug_m', default=False, kubespawner_override=KubespawnerOverride(cpu_limit=4, cpu_guarantee=None, mem_limit='12G', mem_guarantee=None, image='eoepca/pde-code-server:develop', extra_resource_limits={}, extra_resource_guarantees={})), config_maps=[ConfigMap(name='bash-rc', key='bash-rc', mount_path='/workspace/.bashrc', default_mode=None, readonly=True, content='alias ll=\"ls -l\"\\nalias calrissian=\"/opt/conda/bin/calrissian --pod-nodeselectors /etc/calrissian/pod-node-selector.yml --stdout /calrissian/results.json --max-ram 16G --max-cores \"8\" --tmp-outdir-prefix /calrissian/tmp/ --outdir /calrissian/\"\\nalias cwltool=\"/opt/conda/bin/cwltool --podman\"\\n. /home/jovyan/.bashrc\\n# >>> conda initialize >>>\\n# !! Contents within this block are managed by \\'conda init\\' !!\\n__conda_setup=\"$(\\'/opt/conda/bin/conda\\' \\'shell.bash\\' \\'hook\\' 2> /dev/null)\"\\nif [ $? -eq 0 ]; then\\n    eval \"$__conda_setup\"\\nelse\\n    if [ -f \"/opt/conda/etc/profile.d/conda.sh\" ]; then\\n        . \"/opt/conda/etc/profile.d/conda.sh\"\\n    else\\n        export PATH=\"/srv/conda/bin:$PATH\"\\n    fi\\nfi\\nunset __conda_setup\\n\\nif [ -f \"/opt/conda/etc/profile.d/mamba.sh\" ]; then\\n    . \"/opt/conda/etc/profile.d/mamba.sh\"\\nfi\\n# <<< conda initialize <<<\\n', persist=True)], volumes=[Volume(name='calrissian-volume', claim_name='calrissian-claim', size='50Gi', storage_class='standard', access_modes=['ReadWriteMany'], volume_mount=VolumeMount(name='calrissian-volume', mount_path='/calrissian'), persist=False), Volume(name='workspace-volume', claim_name='workspace-claim', size='50Gi', storage_class='standard', access_modes=['ReadWriteOnce'], volume_mount=VolumeMount(name='workspace-volume', mount_path='/workspace'), persist=True)], pod_env_vars={'HOME': '/workspace', 'CONDA_ENVS_PATH': ' /workspace/.envs'}, default_url=None, node_selector={}, role_bindings=None, image_pull_secrets=[], init_containers=[], manifests=None),\n",
       " Profile(id='profile_demo_init_script', groups=['group-a', 'group-b'], definition=ProfileDefinition(display_name='Coder demo init script', description='This profile is used to demonstrate the use of an init script', slug='eoepca_demo_init_script', default=False, kubespawner_override=KubespawnerOverride(cpu_limit=2, cpu_guarantee=1, mem_limit='6G', mem_guarantee='4G', image='eoepca/pde-code-server:develop', extra_resource_limits={}, extra_resource_guarantees={})), config_maps=[ConfigMap(name='init', key='init', mount_path='/opt/init/.init.sh', default_mode='0660', readonly=True, content=\"set -x\\n\\ncd /workspace\\n\\ngit clone 'https://github.com/eoap/mastering-app-package.git'\\n\\ncode-server --install-extension ms-python.python\\ncode-server --install-extension redhat.vscode-yaml\\ncode-server --install-extension sbg-rabix.benten-cwl\\ncode-server --install-extension ms-toolsai.jupyter\\n\\nln -s /workspace/.local/share/code-server/extensions /workspace/extensions\\n\\nexit 0\\n\", persist=False)], volumes=[Volume(name='calrissian-volume', claim_name='calrissian-claim', size='50Gi', storage_class='standard', access_modes=['ReadWriteMany'], volume_mount=VolumeMount(name='calrissian-volume', mount_path='/calrissian'), persist=False), Volume(name='workspace-volume', claim_name='workspace-claim', size='50Gi', storage_class='standard', access_modes=['ReadWriteOnce'], volume_mount=VolumeMount(name='workspace-volume', mount_path='/workspace'), persist=True)], pod_env_vars={'HOME': '/workspace', 'CONDA_ENVS_PATH': '/workspace/.envs', 'CONDARC': '/workspace/.condarc', 'XDG_RUNTIME_DIR': '/workspace/.local', 'CODE_SERVER_WS': '/workspace/mastering-app-package'}, default_url=None, node_selector={}, role_bindings=None, image_pull_secrets=[], init_containers=[InitContainer(name='init-file-on-volume', image='eoepca/pde-code-server:develop', command=['sh', '-c', 'sh /opt/init/.init.sh'], volume_mounts=[VolumeMount(name='workspace-volume', mount_path='/workspace'), InitContainerVolumeMount(name='init', mount_path='/opt/init/.init.sh', sub_path='init')])], manifests=None),\n",
       " Profile(id='profile_jupyter_lab', groups=['group-c'], definition=ProfileDefinition(display_name='Jupyter Lab', description='Jupyter Lab with Python 3.11', slug='eoepca_jupyter_lab', default=False, kubespawner_override=KubespawnerOverride(cpu_limit=2, cpu_guarantee=1, mem_limit='6G', mem_guarantee='4G', image='jupyter/scipy-notebook', extra_resource_limits={}, extra_resource_guarantees={})), config_maps=[], volumes=[Volume(name='workspace-volume', claim_name='workspace-claim', size='50Gi', storage_class='standard', access_modes=['ReadWriteOnce'], volume_mount=VolumeMount(name='workspace-volume', mount_path='/workspace'), persist=True)], pod_env_vars={'HOME': '/workspace', 'XDG_RUNTIME_DIR': '/workspace/.local', 'XDG_CONFIG_HOME': '/workspace/.config'}, default_url=None, node_selector={}, role_bindings=None, image_pull_secrets=[], init_containers=[], manifests=None),\n",
       " Profile(id='profile_jupyter_lab_2', groups=['group-c'], definition=ProfileDefinition(display_name='Jupyter Lab - profile 2', description='Jupyter Lab with Python 3.11 - demoes the use of an image pull secret', slug='eoepca_jupyter_lab_2', default=False, kubespawner_override=KubespawnerOverride(cpu_limit=2, cpu_guarantee=1, mem_limit='6G', mem_guarantee='4G', image='jupyter/scipy-notebook', extra_resource_limits={}, extra_resource_guarantees={})), config_maps=[], volumes=[Volume(name='workspace-volume', claim_name='workspace-claim', size='50Gi', storage_class='standard', access_modes=['ReadWriteOnce'], volume_mount=VolumeMount(name='workspace-volume', mount_path='/workspace'), persist=True)], pod_env_vars={'HOME': '/workspace', 'XDG_RUNTIME_DIR': '/workspace/.local', 'XDG_CONFIG_HOME': '/workspace/.config'}, default_url=None, node_selector={}, role_bindings=None, image_pull_secrets=[ImagePullSecret(name='cr-config', persist=False, data='ewogICAgImF1dGhzIjogewogICAgICAgICJjci50ZXJyYWR1ZS5jb20iOiB7CiAgICAgICAgICAgICJ1c2VybmFtZSI6ICJyb2JvdCRlb2VwY2EtcGx1cy1ybyIsCiAgICAgICAgICAgICJwYXNzd29yZCI6ICJQMlE4TnkyZ0lHODhkZkxveXlLN05QVUZVbHJOekFZSiIsCiAgICAgICAgICAgICJlbWFpbCI6ICJlb2VwY2EtcGx1c0B0ZXJyYWR1ZS5jb20iLAogICAgICAgICAgICAiYXV0aCI6ICJjbTlpYjNRa1pXOWxjR05oTFhCc2RYTXRjbTg2VURKUk9FNTVNbWRKUnpnNFpHWk1iM2w1U3pkT1VGVkdWV3h5VG5wQldVbz0iCiAgICAgICAgfQogICAgfQp9')], init_containers=[], manifests=None)]"
      ]
     },
     "execution_count": 15,
     "metadata": {},
     "output_type": "execute_result"
    }
   ],
   "source": [
    "# profiles"
   ]
  },
  {
   "cell_type": "code",
   "execution_count": null,
   "metadata": {},
   "outputs": [],
   "source": []
  },
  {
   "cell_type": "code",
   "execution_count": null,
   "metadata": {},
   "outputs": [],
   "source": []
  },
  {
   "cell_type": "code",
   "execution_count": null,
   "metadata": {},
   "outputs": [],
   "source": []
  }
 ],
 "metadata": {
  "kernelspec": {
   "display_name": "base",
   "language": "python",
   "name": "python3"
  },
  "language_info": {
   "codemirror_mode": {
    "name": "ipython",
    "version": 3
   },
   "file_extension": ".py",
   "mimetype": "text/x-python",
   "name": "python",
   "nbconvert_exporter": "python",
   "pygments_lexer": "ipython3",
   "version": "3.10.14"
  },
  "orig_nbformat": 4
 },
 "nbformat": 4,
 "nbformat_minor": 2
}
