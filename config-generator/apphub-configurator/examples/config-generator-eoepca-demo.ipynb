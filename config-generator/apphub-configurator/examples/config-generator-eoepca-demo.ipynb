{
 "cells": [
  {
   "cell_type": "code",
   "execution_count": 1,
   "metadata": {},
   "outputs": [],
   "source": [
    "import yaml\n",
    "from models import *\n",
    "import os"
   ]
  },
  {
   "attachments": {},
   "cell_type": "markdown",
   "metadata": {},
   "source": [
    "## Configuration\n",
    "\n"
   ]
  },
  {
   "cell_type": "code",
   "execution_count": 2,
   "metadata": {},
   "outputs": [],
   "source": [
    "storage_class_rwo = \"managed-nfs-storage\"\n",
    "storage_class_rwx = \"managed-nfs-storage\"\n",
    "\n",
    "workspace_volume_size = \"50Gi\"\n",
    "calrissian_volume_size = \"50Gi\""
   ]
  },
  {
   "attachments": {},
   "cell_type": "markdown",
   "metadata": {},
   "source": [
    "## Volumes\n",
    "\n",
    "Create the Volumes"
   ]
  },
  {
   "attachments": {},
   "cell_type": "markdown",
   "metadata": {},
   "source": [
    "### Workspace Volume\n",
    "\n",
    "The workspace volume is persisted."
   ]
  },
  {
   "cell_type": "code",
   "execution_count": 3,
   "metadata": {},
   "outputs": [],
   "source": [
    "workspace_volume = Volume(\n",
    "    name=\"workspace-volume\",\n",
    "    size=workspace_volume_size,\n",
    "    claim_name=\"workspace-claim\",\n",
    "    mount_path=\"/workspace\",\n",
    "    storage_class=storage_class_rwo,\n",
    "    access_modes=[\"ReadWriteOnce\"],\n",
    "    volume_mount=VolumeMount(name=\"workspace-volume\", mount_path=\"/workspace\"),\n",
    "    persist=False,\n",
    ")"
   ]
  },
  {
   "attachments": {},
   "cell_type": "markdown",
   "metadata": {},
   "source": [
    "### Calrissian Volume\n",
    "\n",
    "This is a RWX volume, not persisted"
   ]
  },
  {
   "cell_type": "code",
   "execution_count": 4,
   "metadata": {},
   "outputs": [],
   "source": [
    "calrissian_volume = Volume(\n",
    "    name=\"calrissian-volume\",\n",
    "    claim_name=\"calrissian-claim\",\n",
    "    size=calrissian_volume_size,\n",
    "    storage_class=storage_class_rwx,\n",
    "    access_modes=[\"ReadWriteMany\"],\n",
    "    volume_mount=VolumeMount(name=\"calrissian-volume\", mount_path=\"/calrissian\"),\n",
    "    persist=False,\n",
    ")"
   ]
  },
  {
   "attachments": {},
   "cell_type": "markdown",
   "metadata": {},
   "source": [
    "## ConfigMaps\n",
    "\n",
    "These configmaps are mounted as files on the pod."
   ]
  },
  {
   "attachments": {},
   "cell_type": "markdown",
   "metadata": {},
   "source": [
    "### bash login\n",
    "\n",
    "This file is used for the JupyterLab Terminal configuration"
   ]
  },
  {
   "cell_type": "code",
   "execution_count": 5,
   "metadata": {},
   "outputs": [],
   "source": [
    "with open(\"config-maps/bash-login\", \"r\") as f:\n",
    "    content = f.read()\n",
    "\n",
    "bash_login_cm = ConfigMap(\n",
    "    name=\"bash-login\",\n",
    "    key=\"bash-login\",\n",
    "    content=content,\n",
    "    readonly=True,\n",
    "    persist=False,\n",
    "    mount_path=\"/workspace/.bash_login\",\n",
    ")"
   ]
  },
  {
   "attachments": {},
   "cell_type": "markdown",
   "metadata": {},
   "source": [
    "#### bash.rc\n"
   ]
  },
  {
   "cell_type": "code",
   "execution_count": 6,
   "metadata": {},
   "outputs": [],
   "source": [
    "with open(\"config-maps/bash-rc\", \"r\") as f:\n",
    "    content = f.read()\n",
    "bash_rc_cm = ConfigMap(\n",
    "    name=\"bash-rc\",\n",
    "    key=\"bash-rc\",\n",
    "    content=content,\n",
    "    readonly=True,\n",
    "    persist=False,\n",
    "    mount_path=\"/workspace/.bashrc\",\n",
    ")"
   ]
  },
  {
   "cell_type": "markdown",
   "metadata": {},
   "source": [
    "## bash login\n"
   ]
  },
  {
   "cell_type": "code",
   "execution_count": 7,
   "metadata": {},
   "outputs": [],
   "source": [
    "with open(\"config-maps/bash-login\", \"r\") as f:\n",
    "    content = f.read()\n",
    "\n",
    "bash_login_cm = ConfigMap(\n",
    "    name=\"bash-login\",\n",
    "    key=\"bash-login\",\n",
    "    content=content,\n",
    "    readonly=True,\n",
    "    persist=False,\n",
    "    mount_path=\"/workspace/.bash_login\",\n",
    ")"
   ]
  },
  {
   "attachments": {},
   "cell_type": "markdown",
   "metadata": {},
   "source": [
    "## Profiles"
   ]
  },
  {
   "cell_type": "code",
   "execution_count": 8,
   "metadata": {},
   "outputs": [],
   "source": [
    "profiles = []"
   ]
  },
  {
   "attachments": {},
   "cell_type": "markdown",
   "metadata": {},
   "source": [
    "### Coder"
   ]
  },
  {
   "cell_type": "code",
   "execution_count": 9,
   "metadata": {},
   "outputs": [],
   "source": [
    "coders = {\n",
    "    \"coder1\": {\n",
    "        \"display_name\": \"Code Server Small\",\n",
    "        \"slug\": \"ellip_studio_coder_slug_s\",\n",
    "        \"cpu_limit\": 2,\n",
    "        \"mem_limit\": \"8G\",\n",
    "    },\n",
    "    \"coder2\": {\n",
    "        \"display_name\": \"Code Server Medium\",\n",
    "        \"slug\": \"ellip_studio_coder_slug_m\",\n",
    "        \"cpu_limit\": 4,\n",
    "        \"mem_limit\": \"12G\",\n",
    "    },\n",
    "}\n",
    "\n",
    "for key, value in coders.items():\n",
    "    coder_definition = ProfileDefinition(\n",
    "        display_name=value[\"display_name\"],\n",
    "        slug=value[\"slug\"],\n",
    "        default=False,\n",
    "        kubespawner_override=KubespawnerOverride(\n",
    "            cpu_limit=value[\"cpu_limit\"],\n",
    "            mem_limit=value[\"mem_limit\"],\n",
    "            image=\"eoepca/pde-code-server:develop\",\n",
    "        ),\n",
    "    )\n",
    "\n",
    "    coder_profile = Profile(\n",
    "        id=f\"profile_studio_{key}\",\n",
    "        groups=[\"group-a\", \"group-b\"],\n",
    "        definition=coder_definition,\n",
    "        node_selector={},\n",
    "        volumes=[calrissian_volume, workspace_volume],\n",
    "        config_maps=[\n",
    "            bash_rc_cm,\n",
    "        ],\n",
    "        pod_env_vars={\n",
    "            \"HOME\": \"/workspace\",\n",
    "            \"CONDA_ENVS_PATH\": \"/workspace/.envs\",\n",
    "        },\n",
    "    )\n",
    "\n",
    "    profiles.append(coder_profile)"
   ]
  },
  {
   "cell_type": "markdown",
   "metadata": {},
   "source": [
    "## init.sh script"
   ]
  },
  {
   "cell_type": "code",
   "execution_count": 10,
   "metadata": {},
   "outputs": [],
   "source": [
    "with open(\"./config-maps/init.sh\", \"r\") as f:\n",
    "    content = f.read()\n",
    "\n",
    "init_cm = ConfigMap(\n",
    "    name=\"init\",\n",
    "    key=\"init\",\n",
    "    content=content,\n",
    "    readonly=True,\n",
    "    persist=False,\n",
    "    mount_path=\"/opt/init/.init.sh\",\n",
    "    default_mode=\"0660\",\n",
    ")\n",
    "\n",
    "\n",
    "init_context_volume_mount = InitContainerVolumeMount(\n",
    "    mount_path=\"/opt/init/.init.sh\", name=\"init\", sub_path=\"init\"\n",
    ")\n",
    "init_container = InitContainer(\n",
    "    name=\"init-file-on-volume\",\n",
    "    image=\"eoepca/pde-code-server:develop\",\n",
    "    command=[\"sh\", \"-c\", \"sh /opt/init/.init.sh\"],\n",
    "    volume_mounts=[\n",
    "        VolumeMount(name=\"workspace-volume\", mount_path=\"/workspace\"),\n",
    "        init_context_volume_mount,\n",
    "    ],\n",
    ")\n",
    "\n",
    "eoepca_demo_init_script_profile = Profile(\n",
    "    id=f\"profile_demo_init_script\",\n",
    "    groups=[\"group-a\", \"group-b\"],\n",
    "    definition=ProfileDefinition(\n",
    "        display_name=\"Coder demo init script\",\n",
    "        description=\"This profile is used to demonstrate the use of an init script\",\n",
    "        slug=\"eoepca_demo_init_script\",\n",
    "        default=False,\n",
    "        kubespawner_override=KubespawnerOverride(\n",
    "            cpu_guarantee=1,\n",
    "            cpu_limit=2,\n",
    "            mem_guarantee=\"4G\",\n",
    "            mem_limit=\"6G\",\n",
    "            image=\"eoepca/pde-code-server:develop\",\n",
    "        ),\n",
    "    ),\n",
    "    node_selector={},\n",
    "    volumes=[calrissian_volume, workspace_volume],\n",
    "    config_maps=[init_cm],\n",
    "    pod_env_vars={\n",
    "        \"HOME\": \"/workspace\",\n",
    "        \"CONDA_ENVS_PATH\": \"/workspace/.envs\",\n",
    "        \"CONDARC\": \"/workspace/.condarc\",\n",
    "        \"XDG_RUNTIME_DIR\": \"/workspace/.local\",\n",
    "        \"CODE_SERVER_WS\": \"/workspace/mastering-app-package\",\n",
    "    },\n",
    "    init_containers=[init_container],\n",
    ")"
   ]
  },
  {
   "cell_type": "code",
   "execution_count": 11,
   "metadata": {},
   "outputs": [],
   "source": [
    "profiles.append(eoepca_demo_init_script_profile)\n",
    "\n",
    "eoepca_demo_init_script_profile = Profile(\n",
    "    id=f\"profile_demo_init_script\",\n",
    "    groups=[\"group-a\", \"group-b\"],\n",
    "    definition=ProfileDefinition(\n",
    "        display_name=\"Coder demo init script\",\n",
    "        description=\"This profile is used to demonstrate the use of an init script\",\n",
    "        slug=\"eoepca_demo_init_script\",\n",
    "        default=False,\n",
    "        kubespawner_override=KubespawnerOverride(\n",
    "            cpu_guarantee=1,\n",
    "            cpu_limit=2,\n",
    "            mem_guarantee=\"4G\",\n",
    "            mem_limit=\"6G\",\n",
    "            image=\"eoepca/pde-code-server:develop\",\n",
    "        ),\n",
    "    ),\n",
    "    node_selector={},\n",
    "    volumes=[calrissian_volume, workspace_volume],\n",
    "    config_maps=[init_cm],\n",
    "    pod_env_vars={\n",
    "        \"HOME\": \"/workspace\",\n",
    "        \"CONDA_ENVS_PATH\": \"/workspace/.envs\",\n",
    "        \"CONDARC\": \"/workspace/.condarc\",\n",
    "        \"XDG_RUNTIME_DIR\": \"/workspace/.local\",\n",
    "        \"CODE_SERVER_WS\": \"/workspace/mastering-app-package\",\n",
    "    },\n",
    "    init_containers=[init_container],\n",
    ")"
   ]
  },
  {
   "cell_type": "markdown",
   "metadata": {},
   "source": [
    "## JupyterLab"
   ]
  },
  {
   "cell_type": "code",
   "execution_count": 12,
   "metadata": {},
   "outputs": [],
   "source": [
    "image = \"jupyter/scipy-notebook\"\n",
    "\n",
    "\n",
    "eoepca_jupyter_lab_profile = Profile(\n",
    "    id=\"profile_jupyter_lab\",\n",
    "    groups=[\"group-c\"],\n",
    "    definition=ProfileDefinition(\n",
    "        display_name=\"Jupyter Lab\",\n",
    "        description=\"Jupyter Lab with Python 3.11\",\n",
    "        slug=\"eoepca_jupyter_lab\",\n",
    "        default=False,\n",
    "        kubespawner_override=KubespawnerOverride(\n",
    "            cpu_guarantee=1,\n",
    "            cpu_limit=2,\n",
    "            mem_guarantee=\"4G\",\n",
    "            mem_limit=\"6G\",\n",
    "            image=image,\n",
    "        ),\n",
    "    ),\n",
    "    node_selector={},\n",
    "    volumes=[workspace_volume],\n",
    "    config_maps=[],\n",
    "    pod_env_vars={\n",
    "        \"HOME\": \"/workspace\",\n",
    "        \"XDG_RUNTIME_DIR\": \"/workspace/.local\",\n",
    "        \"XDG_CONFIG_HOME\": \"/workspace/.config\",\n",
    "    },\n",
    ")\n",
    "\n",
    "profiles.append(eoepca_jupyter_lab_profile)"
   ]
  },
  {
   "cell_type": "markdown",
   "metadata": {},
   "source": [
    "## Image pull secret\n"
   ]
  },
  {
   "cell_type": "code",
   "execution_count": 13,
   "metadata": {},
   "outputs": [],
   "source": [
    "image_pull_secret = ImagePullSecret(\n",
    "    name=\"cr-config\",\n",
    "    persist=False,\n",
    "    data=\"ewogICAgImF1dGhzIjogewogICAgICAgICJjci50ZXJyYWR1ZS5jb20iOiB7CiAgICAgICAgICAgICJ1c2VybmFtZSI6ICJyb2JvdCRlb2VwY2EtcGx1cy1ybyIsCiAgICAgICAgICAgICJwYXNzd29yZCI6ICJQMlE4TnkyZ0lHODhkZkxveXlLN05QVUZVbHJOekFZSiIsCiAgICAgICAgICAgICJlbWFpbCI6ICJlb2VwY2EtcGx1c0B0ZXJyYWR1ZS5jb20iLAogICAgICAgICAgICAiYXV0aCI6ICJjbTlpYjNRa1pXOWxjR05oTFhCc2RYTXRjbTg2VURKUk9FNTVNbWRKUnpnNFpHWk1iM2w1U3pkT1VGVkdWV3h5VG5wQldVbz0iCiAgICAgICAgfQogICAgfQp9\",\n",
    ")"
   ]
  },
  {
   "cell_type": "code",
   "execution_count": 14,
   "metadata": {},
   "outputs": [],
   "source": [
    "image = \"cr.terradue.com/eoepca-plus/scipy-notebook@sha256:f339a9fa98d3d0c1fa8d7cc850e7f5a46845781f49bee86aacba059669d02d54\"\n",
    "image = \"eoepca/iat-jupyterlab:develop\"\n",
    "\n",
    "eoepca_jupyter_lab_profile_2 = Profile(\n",
    "    id=\"profile_jupyter_lab_2\",\n",
    "    groups=[\"group-c\"],\n",
    "    definition=ProfileDefinition(\n",
    "        display_name=\"Jupyter Lab - profile 2\",\n",
    "        description=\"Jupyter Lab with Python 3.11 private image - demoes the use of an image pull secret\",\n",
    "        slug=\"eoepca_jupyter_lab_2\",\n",
    "        default=False,\n",
    "        kubespawner_override=KubespawnerOverride(\n",
    "            cpu_guarantee=1,\n",
    "            cpu_limit=2,\n",
    "            mem_guarantee=\"4G\",\n",
    "            mem_limit=\"6G\",\n",
    "            image=image,\n",
    "        ),\n",
    "    ),\n",
    "    node_selector={},\n",
    "    volumes=[workspace_volume],\n",
    "    config_maps=[],\n",
    "    pod_env_vars={\n",
    "        \"HOME\": \"/workspace\",\n",
    "        \"XDG_RUNTIME_DIR\": \"/workspace/.local\",\n",
    "        \"XDG_CONFIG_HOME\": \"/workspace/.config\",\n",
    "    },\n",
    "    image_pull_secrets=[image_pull_secret],\n",
    ")\n",
    "\n",
    "profiles.append(eoepca_jupyter_lab_profile_2)"
   ]
  },
  {
   "cell_type": "markdown",
   "metadata": {},
   "source": [
    "## Stage-in/out"
   ]
  },
  {
   "cell_type": "code",
   "execution_count": 15,
   "metadata": {},
   "outputs": [],
   "source": [
    "with open(\"./config-maps/init-stac.sh\", \"r\") as f:\n",
    "    content = f.read()\n",
    "\n",
    "init_cm = ConfigMap(\n",
    "    name=\"init\",\n",
    "    key=\"init\",\n",
    "    content=content,\n",
    "    readonly=True,\n",
    "    persist=False,\n",
    "    mount_path=\"/opt/init/.init.sh\",\n",
    ")"
   ]
  },
  {
   "cell_type": "code",
   "execution_count": 16,
   "metadata": {},
   "outputs": [],
   "source": [
    "with open(\"manifests/manifest.yaml\", \"r\") as f:\n",
    "    content = yaml.safe_load_all(f.read())\n",
    "\n",
    "\n",
    "localstack_manifest = Manifest(\n",
    "    name=\"manifests\",\n",
    "    key=\"manifests\",\n",
    "    readonly=True,\n",
    "    persist=False,\n",
    "    content=[e for e in content],\n",
    ")"
   ]
  },
  {
   "cell_type": "markdown",
   "metadata": {},
   "source": [
    "## e-learning"
   ]
  },
  {
   "cell_type": "code",
   "execution_count": 17,
   "metadata": {},
   "outputs": [],
   "source": [
    "image = \"docker.io/eoepca/pde-code-server@sha256:f57a3d5eabcae667e0db6e84a57b0c07c692c88f0fb5c8f6900ab8d5e38fcd40\"\n",
    "\n",
    "coder_profile_stac = Profile(\n",
    "    id=f\"profile_studio_coder_stac\",\n",
    "    groups=[\"group-a\", \"group-b\"],\n",
    "    definition=ProfileDefinition(\n",
    "        display_name=\"Understanding STAC for input/output data modelling\",\n",
    "        description=\"Understand the role of STAC in input/output data manifests in EO data processing workflows\",\n",
    "        slug=\"eoepca_coder_slug_stac\",\n",
    "        default=False,\n",
    "        kubespawner_override=KubespawnerOverride(\n",
    "            cpu_guarantee=1,\n",
    "            cpu_limit=2,\n",
    "            mem_guarantee=\"4G\",\n",
    "            mem_limit=\"6G\",\n",
    "            image=image,\n",
    "        ),\n",
    "    ),\n",
    "    node_selector={},\n",
    "    volumes=[workspace_volume],\n",
    "    config_maps=[init_cm, bash_rc_cm, bash_login_cm],\n",
    "    pod_env_vars={\n",
    "        \"HOME\": \"/workspace\",\n",
    "        \"CONDA_ENVS_PATH\": \"/workspace/.envs\",\n",
    "        \"CONDARC\": \"/workspace/.condarc\",\n",
    "        \"XDG_RUNTIME_DIR\": \"/workspace/.local\",\n",
    "        \"XDG_RUNTIME_DIR\": \"/workspace/.local\",\n",
    "        \"XDG_CONFIG_HOME\": \"/workspace/.local\",\n",
    "        \"XDG_DATA_HOME\": \"/workspace/.local/share/\",\n",
    "        \"CWLTOOL_OPTIONS\": \"--podman\",\n",
    "        \"CODE_SERVER_WS\": \"/workspace/stac-eoap\",\n",
    "        \"AWS_DEFAULT_REGION\": \"us-east-1\",\n",
    "        \"AWS_ACCESS_KEY_ID\": \"test\",\n",
    "        \"AWS_SECRET_ACCESS_KEY\": \"test\",\n",
    "    },\n",
    "    role_bindings=[],\n",
    "    init_containers=[init_container],\n",
    "    image_pull_secrets=[image_pull_secret],\n",
    "    manifests=[localstack_manifest],\n",
    ")\n",
    "\n",
    "profiles.append(coder_profile_stac)"
   ]
  },
  {
   "cell_type": "markdown",
   "metadata": {},
   "source": [
    "## QGIS"
   ]
  },
  {
   "cell_type": "code",
   "execution_count": 18,
   "metadata": {},
   "outputs": [],
   "source": [
    "with open(\"./config-maps/init-qgis.sh\", \"r\") as f:\n",
    "    content = f.read()\n",
    "\n",
    "init_qgis_cm = ConfigMap(\n",
    "    name=\"init\",\n",
    "    key=\"init\",\n",
    "    content=content,\n",
    "    readonly=True,\n",
    "    persist=False,\n",
    "    mount_path=\"/opt/init/.init.sh\",\n",
    ")\n",
    "\n",
    "image = \"eoepca/iga-remote-desktop-qgis:1.1.3\"\n",
    "\n",
    "qgis_profile = Profile(\n",
    "    id=\"profile_studio_desktop_qgis\",\n",
    "    groups=[\"group-a\", \"group-b\"],\n",
    "    definition=ProfileDefinition(\n",
    "        display_name=\"QGIS on a Remote Desktop\",\n",
    "        description=\"Spatial visualization and decision-making tools for everyone\",\n",
    "        slug=\"eoepca_desktop_qgis\",\n",
    "        default=False,\n",
    "        kubespawner_override=KubespawnerOverride(\n",
    "            cpu_limit=2,\n",
    "            mem_limit=\"2G\",\n",
    "            image=image,\n",
    "        ),\n",
    "    ),\n",
    "    node_selector={},\n",
    "    volumes=[workspace_volume],\n",
    "    config_maps=[bash_rc_cm, bash_login_cm],\n",
    "    pod_env_vars={\"HOME\": \"/workspace\"},\n",
    "    default_url=\"desktop\",\n",
    "    init_containers=[],\n",
    ")\n",
    "\n",
    "profiles.append(qgis_profile)"
   ]
  },
  {
   "attachments": {},
   "cell_type": "markdown",
   "metadata": {},
   "source": [
    "## Configuration"
   ]
  },
  {
   "cell_type": "code",
   "execution_count": 19,
   "metadata": {},
   "outputs": [],
   "source": [
    "config = Config(profiles=profiles)\n",
    "\n",
    "with open(\"../eoepca-demo/config.yml\", \"w\") as file:\n",
    "    yaml.dump(config.dict(), file)"
   ]
  },
  {
   "cell_type": "code",
   "execution_count": 20,
   "metadata": {},
   "outputs": [],
   "source": [
    "# profiles"
   ]
  },
  {
   "cell_type": "code",
   "execution_count": null,
   "metadata": {},
   "outputs": [],
   "source": []
  },
  {
   "cell_type": "code",
   "execution_count": null,
   "metadata": {},
   "outputs": [],
   "source": []
  },
  {
   "cell_type": "code",
   "execution_count": null,
   "metadata": {},
   "outputs": [],
   "source": []
  }
 ],
 "metadata": {
  "kernelspec": {
   "display_name": ".env-config-generator",
   "language": "python",
   "name": "python3"
  },
  "language_info": {
   "codemirror_mode": {
    "name": "ipython",
    "version": 3
   },
   "file_extension": ".py",
   "mimetype": "text/x-python",
   "name": "python",
   "nbconvert_exporter": "python",
   "pygments_lexer": "ipython3",
   "version": "3.10.14"
  },
  "orig_nbformat": 4
 },
 "nbformat": 4,
 "nbformat_minor": 2
}
